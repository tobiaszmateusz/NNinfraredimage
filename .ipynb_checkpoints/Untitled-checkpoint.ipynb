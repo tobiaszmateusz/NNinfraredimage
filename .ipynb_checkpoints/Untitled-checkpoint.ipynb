{
 "cells": [
  {
   "cell_type": "code",
   "execution_count": 1,
   "id": "7c46c4f7",
   "metadata": {},
   "outputs": [],
   "source": [
    "# import the necessary packages\n",
    "from imutils import paths \n",
    "import argparse\n",
    "import imutils\n",
    "import json \n",
    "import cv2\n",
    "import os\n",
    "import pandas as pd\n",
    "import numpy as np\n",
    "\n",
    "# tools for parallelism\n",
    "from multiprocessing import Pool\n",
    "from functools import partial\n",
    "import matplotlib.pyplot as plt"
   ]
  },
  {
   "cell_type": "code",
   "execution_count": 18,
   "id": "26de51af",
   "metadata": {},
   "outputs": [],
   "source": [
    "import numpy as np\n",
    "\n",
    "# compute mask for one landmark\n",
    "\n",
    "# i - landmark's number\n",
    "# landmarks - array with all landmarks\n",
    "# m, n - dimensions of mask\n",
    "\n",
    "def one_key_mask(i, landmarks, m, n):\n",
    "    B = np.zeros((KEYPOINTS, h, w))\n",
    "    b = np.zeros((m, n))   \n",
    "    for k in i:\n",
    "        for x in range(m):\n",
    "            for y in range(n):\n",
    "                B[k, x, y] = 0.5**(max([abs(landmarks[k, 0] - x), abs(landmarks[k, 1] - y)]))\n",
    "            \n",
    "    return B"
   ]
  },
  {
   "cell_type": "code",
   "execution_count": 19,
   "id": "943cd2d7",
   "metadata": {},
   "outputs": [],
   "source": [
    "# original image size and intended image size\n",
    "H = 348\n",
    "W = 464\n",
    "\n",
    "h = 256\n",
    "w = 256\n",
    "\n",
    "# number of facial landmarks\n",
    "KEYPOINTS = 54"
   ]
  },
  {
   "cell_type": "code",
   "execution_count": 20,
   "id": "f6a4eaee",
   "metadata": {},
   "outputs": [],
   "source": [
    "def generate_masks(jsonFolder):\n",
    "    \n",
    "    # folder where generated masks will be stored\n",
    "    masksFolder = jsonFolder.replace('/json', '/masks')\n",
    "    if not os.path.exists(masksFolder):\n",
    "        os.makedirs(masksFolder)\n",
    "\n",
    "    # paths to json files\n",
    "    jsonPaths = list(paths.list_files(jsonFolder, validExts=\"json\"))\n",
    "    jsonPaths = sorted(jsonPaths)\n",
    "\n",
    "    # loop over the json files\n",
    "    for ind, jsonPath in enumerate(jsonPaths, 1):\n",
    "\n",
    "        print(\"[INFO] Processing {} file ({}/{})\".format(jsonPath.split(\"/\")[-1], ind, len(jsonPaths)))\n",
    "\n",
    "        # opening the json file \n",
    "        f = open(jsonPath,) \n",
    "\n",
    "        # returns the json object as a dictionary \n",
    "        data = json.load(f) \n",
    "\n",
    "        # extracting filename\n",
    "        filename = jsonPath.split(\"/\")[-1]\n",
    "        filename = filename.split(\".json\")[0]\n",
    "\n",
    "        # extracting trial data from filename\n",
    "        sub_id, trial_id, exp_id, pos_id, *rest = filename.split(\"_\")\n",
    "        info = \"{}_{}_{}\".format(sub_id, trial_id, pos_id)\n",
    "\n",
    "        # iterating through the shapes\n",
    "        landmarks = []\n",
    "        for shape in data['shapes']:\n",
    "            # face label corresponds to bounding boxes\n",
    "            if shape['label'] == 'face':\n",
    "                [[xs, ys], [xe, ye]] = shape['points']\n",
    "                (xs, ys, xe, ye) = (int(xs), int(ys), int(xe), int(ye))\n",
    "                \n",
    "        for shape in data['shapes']:\n",
    "            # other labels correspond to landmarks\n",
    "            if shape['label'] != 'face':\n",
    "                # iterating through the landmarks\n",
    "                for point in shape['points']:\n",
    "                    (x, y) = point\n",
    "                    (x, y) = (int(x), int(y))\n",
    "\n",
    "                    # adjust the landmark positions w.r.t. bounding boxes and new image size\n",
    "                    (crop_x, crop_y) = (x-xs, y-ys)\n",
    "                    (crop_x, crop_y) = (crop_x / (xe-xs) * h, crop_y / (ye-ys) * w)\n",
    "                    landmarks.append([crop_y, crop_x])\n",
    "\n",
    "        landmarks = np.array(landmarks)\n",
    "\n",
    "        # array to contain the masks for each point\n",
    "        B = np.zeros((KEYPOINTS, h, w))\n",
    "\n",
    "        # mask generation is computed on CPU\n",
    "        # hence, the landmark computation is manually divided to 6 processors\n",
    "        # separate landmarks to 6 subsets for parallel computation\n",
    "        keys1 = (list(range(0, 54)))\n",
    "\n",
    "        b1 = one_key_mask(keys1, landmarks = landmarks, m=h, n=w)\n",
    "\n",
    "        B[0:54, :, :] = np.array(b1)\n",
    "\n",
    "        # combining to one mask\n",
    "        mask = np.sum(B, axis=0)\n",
    "        mask = np.clip(mask, 0, 1)\n",
    "        mask = mask * 255.0\n",
    "        mask = mask.astype('uint8')\n",
    "        \n",
    "        plt.imshow(mask)\n",
    "        # saving the mask\n",
    "        maskPath = os.path.join(masksFolder, \"{}.png\".format(filename))\n",
    "        cv2.imwrite(maskPath, mask)\n",
    "\n",
    "        # Closing file \n",
    "        f.close()"
   ]
  },
  {
   "cell_type": "code",
   "execution_count": 21,
   "id": "26570087",
   "metadata": {},
   "outputs": [
    {
     "name": "stdout",
     "output_type": "stream",
     "text": [
      "[INFO] Processing json\\37_2_2_6_1219_68_1.json file (1/1)\n"
     ]
    },
    {
     "data": {
      "image/png": "[encoded data removed]",
      "text/plain": [
       "<Figure size 432x288 with 1 Axes>"
      ]
     },
     "metadata": {
      "needs_background": "light"
     },
     "output_type": "display_data"
    }
   ],
   "source": [
    "generate_masks('dataset/gray/train/json')"
   ]
  },
  {
   "cell_type": "code",
   "execution_count": null,
   "id": "20ed97a7",
   "metadata": {},
   "outputs": [],
   "source": []
  }
 ],
 "metadata": {
  "kernelspec": {
   "display_name": "Python 3",
   "language": "python",
   "name": "python3"
  },
  "language_info": {
   "codemirror_mode": {
    "name": "ipython",
    "version": 3
   },
   "file_extension": ".py",
   "mimetype": "text/x-python",
   "name": "python",
   "nbconvert_exporter": "python",
   "pygments_lexer": "ipython3",
   "version": "3.6.0"
  }
 },
 "nbformat": 4,
 "nbformat_minor": 5
}
